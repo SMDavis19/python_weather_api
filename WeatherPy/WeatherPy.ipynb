{
 "cells": [
  {
   "cell_type": "code",
   "execution_count": 7,
   "metadata": {},
   "outputs": [
    {
     "data": {
      "text/plain": [
       "279.25"
      ]
     },
     "execution_count": 7,
     "metadata": {},
     "output_type": "execute_result"
    }
   ],
   "source": [
    "import requests \n",
    "url_api = 'https://api.openweathermap.org/data/2.5/onecall'\n",
    "payload = {\n",
    "    'appid': 'f3dba5b18d74f455415f3f0cd231d245',\n",
    "    'lat': '48.86252279950622',\n",
    "    'lon': '2.2947436046434238'\n",
    "}\n",
    "r = requests.get(url_api, params=payload)\n",
    "#print(r.text)\n",
    "weather_data = r.json()\n",
    "weather_data['current']['temp']"
   ]
  }
 ],
 "metadata": {
  "kernelspec": {
   "display_name": "Python 3",
   "language": "python",
   "name": "python3"
  },
  "language_info": {
   "codemirror_mode": {
    "name": "ipython",
    "version": 3
   },
   "file_extension": ".py",
   "mimetype": "text/x-python",
   "name": "python",
   "nbconvert_exporter": "python",
   "pygments_lexer": "ipython3",
   "version": "3.8.5"
  }
 },
 "nbformat": 4,
 "nbformat_minor": 4
}
